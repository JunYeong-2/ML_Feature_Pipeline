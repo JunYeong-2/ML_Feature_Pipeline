{
 "cells": [
  {
   "cell_type": "code",
   "execution_count": 1,
   "id": "d64f63d2",
   "metadata": {},
   "outputs": [],
   "source": [
    "%matplotlib inline\n",
    "import warnings\n",
    "warnings.filterwarnings(\"ignore\")\n",
    "\n",
    "import pandas as pd\n",
    "import numpy as np\n",
    "import matplotlib.pyplot as plt\n",
    "import seaborn as sns\n",
    "from sklearn.pipeline import Pipeline\n",
    "from sklearn.compose import ColumnTransformer\n",
    "from sklearn.preprocessing import FunctionTransformer\n",
    "from sklearn.base import BaseEstimator, TransformerMixin\n",
    "from sklearn.impute import SimpleImputer\n",
    "from sklearn.preprocessing import PowerTransformer \n",
    "from sklearn.preprocessing import OrdinalEncoder, OneHotEncoder\n",
    "from category_encoders import TargetEncoder, BinaryEncoder\n",
    "from sklearn.feature_selection import SelectPercentile\n",
    "from sklearn.model_selection import train_test_split, cross_val_score, cross_validate\n",
    "from sklearn.metrics import mean_squared_error\n",
    "from sklearn import set_config\n",
    "from sklearn.linear_model import LinearRegression, Ridge, Lasso\n",
    "import optuna\n",
    "from optuna.distributions import CategoricalDistribution, IntDistribution, FloatDistribution\n",
    "from optuna.integration import OptunaSearchCV, ShapleyImportanceEvaluator\n",
    "from catboost import CatBoostRegressor\n",
    "from sklearn.model_selection import train_test_split, KFold\n",
    "from sklearn.impute import SimpleImputer\n",
    "from sklearn.decomposition import PCA\n",
    "plt.rc('font', family='malgun gothic')"
   ]
  },
  {
   "cell_type": "code",
   "execution_count": 2,
   "id": "a6b94e09",
   "metadata": {},
   "outputs": [],
   "source": [
    "dr = 'data/'\n",
    "\n",
    "X_train = pd.read_csv(dr + 'X_train.csv', encoding='cp949').drop(columns='ID')\n",
    "y_train = pd.read_csv(dr + 'y_train.csv', encoding='cp949').Salary\n",
    "\n",
    "X_test = pd.read_csv(dr + 'X_test.csv', encoding='cp949')\n",
    "test_id = X_test.ID\n",
    "X_test = X_test.drop(columns='ID')\n",
    "\n",
    "data = pd.concat([X_train, X_test]).reset_index().drop(columns='index')\n",
    "\n",
    "data.loc[data[data['직종']=='호텔/콘도/리조트'].index, '직종'] = '기타 직종'"
   ]
  },
  {
   "cell_type": "markdown",
   "id": "f4e6bb9b",
   "metadata": {},
   "source": [
    "# 확정"
   ]
  },
  {
   "cell_type": "code",
   "execution_count": 3,
   "id": "c6fa2131",
   "metadata": {},
   "outputs": [],
   "source": [
    "# 자격증 보기 쉽게 변환\n",
    "data['자격증'] = data['자격증'].str.replace('無', 'x')\n",
    "data['자격증'] = data['자격증'].str.replace('有', 'o')\n",
    "\n",
    "# 어학 시험 전처리\n",
    "data['어학시험'] = data['어학시험'].fillna('없음')\n",
    "\n",
    "# 대학 전공 변환\n",
    "col_list = []\n",
    "abc = []\n",
    "for i in data.대학전공:\n",
    "    if '(' in i:\n",
    "        for j in range(len(i)):\n",
    "            if i[j] == '(':\n",
    "                a = j\n",
    "            elif i[j] == ')':\n",
    "                b = j\n",
    "        last = i[b+1:]\n",
    "        first = i[:a]\n",
    "        i = first + last\n",
    "        abc.append(i)\n",
    "    col_list.append(i)    \n",
    "data['대학전공'] = col_list\n",
    "\n",
    "\n",
    "#\n",
    "data['대학전공'] = data['대학전공'].str.replace(',',' ')\n",
    "data['대학전공'] = data['대학전공'].str.replace('/', ' ')\n",
    "data['대학전공'] = data['대학전공'].str.replace('.',' ')\n",
    "data['대학전공'] = data['대학전공'].str.strip()\n",
    "data['대학전공'] = data['대학전공'].str.replace(' ','')\n",
    "\n",
    "\n",
    "#\n",
    "col = []\n",
    "for i in data['대학전공']:\n",
    "    if i[-1]=='과':\n",
    "        i = i[:-1]\n",
    "    col.append(i)    \n",
    "data['대학전공'] = col\n",
    "\n",
    "\n",
    "#\n",
    "col2 = []\n",
    "for i in data['대학전공']:\n",
    "    if i[-1]!='학':\n",
    "        i = i+'학'\n",
    "    col2.append(i)    \n",
    "data['대학전공'] = col2\n",
    "\n",
    "# 세부직종 처리\n",
    "def full(job):\n",
    "    value = data[data['세부직종']==job]['직무태그'].value_counts().index[0]\n",
    "    data.loc[data[data['세부직종']==job]['직무태그'].index, '직무태그'] = data[data['세부직종']==job]['직무태그'].fillna(value)\n",
    "    \n",
    "for i in data.세부직종.value_counts().index:\n",
    "    full(i)\n",
    "    \n",
    "# 근무지역\n",
    "\n",
    "null_list = []\n",
    "for i in data.근무지역.str.replace(' ',','):\n",
    "    for j in i.split(','):\n",
    "        null_list.append(j)\n",
    "\n",
    "# out = ['필리핀', '인도네시아', '대만', '프랑스', '방글라데시', '해외', '미국', '러시아', '말레이시아', '인도', '일본', '싱가포르', '중국', '홍콩', '캐나다']\n",
    "# for i in out:\n",
    "#     data['근무지역'] = data['근무지역'].str.replace(' ',',').str.replace(i, '해외')\n",
    "\n",
    "a = []    \n",
    "for i in data['근무지역']:\n",
    "    a.append(sorted(list(set(i.split(',')))))\n",
    "    \n",
    "b = []\n",
    "for i in a:\n",
    "    result = ' '.join(map(str, i))\n",
    "    result = result.rstrip()\n",
    "    result = result.lstrip()\n",
    "    b.append(result)\n",
    "data['근무지역'] = b\n",
    "\n",
    "language3 = []\n",
    "for i in data['어학시험']:\n",
    "    if i[:5] == 'TOEFL':\n",
    "        i = '토플'\n",
    "    language3.append(i) \n",
    "data['어학시험'] = language3\n",
    "\n",
    "# 여기까지는 무조건 필수"
   ]
  },
  {
   "cell_type": "markdown",
   "id": "986af4cf",
   "metadata": {},
   "source": [
    "# 근무형태 처리 / NOT PCA"
   ]
  },
  {
   "cell_type": "code",
   "execution_count": 4,
   "id": "b1ceaca9",
   "metadata": {},
   "outputs": [],
   "source": [
    "# 근무 형태 처리\n",
    "null_list = data[data['근무경력']==0].index\n",
    "data['근무형태'][null_list] = data['근무형태'][null_list].fillna('경력없음')\n",
    "data['근무형태'] = data['근무형태'].fillna('missing')\n",
    "\n",
    "#\n",
    "data['근무형태'] = data['근무형태'].str.replace(',', ' ')\n",
    "data['근무형태'] = data['근무형태'].str.strip()\n",
    "\n",
    "#\n",
    "hyung_list = []\n",
    "for i in data['근무형태']:\n",
    "    if i[:3] == '정규직' and '해외취업' in i:\n",
    "        i = '정규직(해외o)'\n",
    "    elif i[:3] == '정규직' and '해외취업' not in i:\n",
    "        i = '정규직(해외x)'\n",
    "    hyung_list.append(i)    \n",
    "data['근무형태'] = hyung_list\n",
    "\n",
    "#\n",
    "hyun_list2 = []\n",
    "for i in data['근무형태']:\n",
    "    if i[:3] == '계약직':\n",
    "        i = '계약직'\n",
    "    elif i in ['인턴','파견직']:\n",
    "        i = '계약직'\n",
    "    elif i in ['해외취업','병역특례']:\n",
    "        i = '기타'    \n",
    "    hyun_list2.append(i)   \n",
    "data['근무형태'] = hyun_list2"
   ]
  },
  {
   "cell_type": "markdown",
   "id": "6f9ac8fb",
   "metadata": {},
   "source": [
    "# 근무지역 처리 / NOT PCA"
   ]
  },
  {
   "cell_type": "code",
   "execution_count": 5,
   "id": "c4e07a51",
   "metadata": {},
   "outputs": [],
   "source": [
    "# 근무지역\n",
    "\n",
    "null_list = []\n",
    "for i in data.근무지역.str.replace(' ',','):\n",
    "    for j in i.split(','):\n",
    "        null_list.append(j)\n",
    "\n",
    "out = ['필리핀', '인도네시아', '대만', '프랑스', '방글라데시', '해외', '미국', '러시아', '말레이시아', '인도', '일본', '싱가포르', '중국', '홍콩', '캐나다']\n",
    "for i in out:\n",
    "    data['근무지역'] = data['근무지역'].str.replace(' ',',').str.replace(i, '해외')\n",
    "   \n",
    "a = []\n",
    "for i in data['근무지역']:\n",
    "    a.append(sorted(list(set(i.split(',')))))\n",
    "   \n",
    "b = []\n",
    "for i in a:\n",
    "    result = ' '.join(map(str, i))\n",
    "    result = result.rstrip()\n",
    "    result = result.lstrip()\n",
    "    b.append(result)\n",
    "   \n",
    "data['근무지역'] = b"
   ]
  },
  {
   "cell_type": "markdown",
   "id": "fde9d4e6",
   "metadata": {},
   "source": [
    "# 직무태그 처리"
   ]
  },
  {
   "cell_type": "code",
   "execution_count": 6,
   "id": "e684520c",
   "metadata": {},
   "outputs": [
    {
     "name": "stdout",
     "output_type": "stream",
     "text": [
      "(16570, 180)\n"
     ]
    }
   ],
   "source": [
    "from sklearn.feature_extraction.text import CountVectorizer\n",
    "\n",
    "sentences = data['직무태그']\n",
    "\n",
    "vectorizer = CountVectorizer()\n",
    "\n",
    "features = vectorizer.fit_transform(sentences)\n",
    "vocab = vectorizer.get_feature_names()\n",
    "new = pd.DataFrame(features.toarray(), columns = vocab)\n",
    "\n",
    "X_train_New = new[:16570]\n",
    "X_test_New = new[16570:]\n",
    "\n",
    "max_d = num_d = new.shape[1]\n",
    "pca = PCA(n_components=max_d).fit(X_train_New)\n",
    "cumsum = np.cumsum(pca.explained_variance_ratio_)\n",
    "num_d = np.argmax(cumsum >= 0.65) + 1\n",
    "if num_d == 1: num_d = max_d\n",
    "pca = PCA(n_components=num_d, random_state=0)  \n",
    "X_train_pca = pca.fit_transform(X_train_New)\n",
    "X_test_pca = pca.transform(X_test_New)\n",
    "print(X_train_pca.shape)\n",
    "\n",
    "train = pd.DataFrame(X_train_pca)\n",
    "test = pd.DataFrame(X_test_pca)\n",
    "\n",
    "all_pca = pd.concat([train, test]).reset_index().drop(columns = 'index')\n",
    "data = pd.concat([data, all_pca], axis=1).drop(columns='직무태그')"
   ]
  },
  {
   "cell_type": "code",
   "execution_count": null,
   "id": "2407b215",
   "metadata": {},
   "outputs": [],
   "source": []
  },
  {
   "cell_type": "code",
   "execution_count": 7,
   "id": "e0d3c128",
   "metadata": {},
   "outputs": [],
   "source": [
    "data.columns = [i for i in range(data.columns.size)]"
   ]
  },
  {
   "cell_type": "code",
   "execution_count": 8,
   "id": "9bd758f5",
   "metadata": {},
   "outputs": [],
   "source": [
    "X_train = data[:16570]\n",
    "X_test = data[16570:]\n",
    "\n",
    "X_test = X_test.reset_index()\n",
    "X_test.drop(columns='index', inplace=True)\n",
    "\n",
    "numeric_features = data.select_dtypes('number').columns\n",
    "categorical_features = data.select_dtypes('object').columns"
   ]
  },
  {
   "cell_type": "code",
   "execution_count": 9,
   "id": "d5263b46",
   "metadata": {},
   "outputs": [],
   "source": [
    "from sklearn.preprocessing import OneHotEncoder\n",
    "\n",
    "numeric_transformer = Pipeline(\n",
    "    steps=[\n",
    "        (\"imputer\", SimpleImputer(strategy=\"median\")),\n",
    "        (\"scaler\", PowerTransformer()),\n",
    "    ]\n",
    ")\n",
    "\n",
    "categorical_transformer = Pipeline(\n",
    "    steps=[\n",
    "        (\"imputer\", SimpleImputer(strategy=\"most_frequent\")), \n",
    "        (\"encoder\", OneHotEncoder(handle_unknown=\"ignore\", sparse=True)),\n",
    "    ]\n",
    ")\n",
    "\n",
    "column_transformer = ColumnTransformer(\n",
    "    transformers=[\n",
    "        (\"num\", numeric_transformer, numeric_features),\n",
    "        (\"cat\", categorical_transformer, categorical_features),\n",
    "    ]\n",
    ")\n",
    "\n",
    "preprocessor = Pipeline(\n",
    "    steps=[\n",
    "        (\"column\", column_transformer), \n",
    "        (\"selector\", SelectPercentile(percentile=100)),\n",
    "    ]\n",
    ")\n",
    "\n",
    "model = Pipeline(\n",
    "    steps=[\n",
    "        (\"preprocessor\", preprocessor), \n",
    "        (\"classifier\", Ridge(alpha=1.0)), # regressor가 되어야 함 #alpha가 낮을수록 과적합 Viceversa \n",
    "    ]\n",
    ")\n",
    "\n",
    "set_config(display=\"diagram\")"
   ]
  },
  {
   "cell_type": "code",
   "execution_count": 10,
   "id": "6aaca337",
   "metadata": {},
   "outputs": [
    {
     "name": "stdout",
     "output_type": "stream",
     "text": [
      "Default LM CV scores:  [ 796.39144999  782.02111551  860.72314728  923.95550826 1035.24489241]\n",
      "Default LM CV mean = 884.54 with std = 410.27\n"
     ]
    }
   ],
   "source": [
    "scores = cross_val_score(model, X_train, y_train, scoring='neg_mean_squared_error', cv=5) \n",
    "\n",
    "print(\"Default LM CV scores: \", np.sqrt(-1*scores))\n",
    "print(\"Default LM CV mean = %.2f\" % np.sqrt(-1*scores.mean()), \"with std = %.2f\" % np.sqrt(scores.std()))\n"
   ]
  },
  {
   "cell_type": "code",
   "execution_count": 11,
   "id": "caa17b18",
   "metadata": {},
   "outputs": [
    {
     "name": "stdout",
     "output_type": "stream",
     "text": [
      "Default LM CV scores:  [ 779.56237654  796.25188903  781.41147558  776.83103888  851.57028607\n",
      "  867.22384492  869.05305774  948.88683839  944.68117737 1072.92975993]\n",
      "Default LM CV mean = 873.63 with std = 408.09\n"
     ]
    }
   ],
   "source": [
    "from sklearn.model_selection import cross_val_score\n",
    "scores = cross_val_score(model, X_train, y_train, scoring='neg_mean_squared_error', cv=10) \n",
    "\n",
    "print(\"Default LM CV scores: \", np.sqrt(-1*scores))\n",
    "print(\"Default LM CV mean = %.2f\" % np.sqrt(-1*scores.mean()), \"with std = %.2f\" % np.sqrt(scores.std()))\n"
   ]
  },
  {
   "cell_type": "code",
   "execution_count": 12,
   "id": "6263ec00",
   "metadata": {},
   "outputs": [
    {
     "name": "stdout",
     "output_type": "stream",
     "text": [
      "CPU times: total: 8min 17s\n",
      "Wall time: 8min 23s\n"
     ]
    },
    {
     "data": {
      "text/html": [
       "<style>#sk-01aeab15-7a3e-4c3e-808d-9b7b96d9ee20 {color: black;background-color: white;}#sk-01aeab15-7a3e-4c3e-808d-9b7b96d9ee20 pre{padding: 0;}#sk-01aeab15-7a3e-4c3e-808d-9b7b96d9ee20 div.sk-toggleable {background-color: white;}#sk-01aeab15-7a3e-4c3e-808d-9b7b96d9ee20 label.sk-toggleable__label {cursor: pointer;display: block;width: 100%;margin-bottom: 0;padding: 0.3em;box-sizing: border-box;text-align: center;}#sk-01aeab15-7a3e-4c3e-808d-9b7b96d9ee20 label.sk-toggleable__label-arrow:before {content: \"▸\";float: left;margin-right: 0.25em;color: #696969;}#sk-01aeab15-7a3e-4c3e-808d-9b7b96d9ee20 label.sk-toggleable__label-arrow:hover:before {color: black;}#sk-01aeab15-7a3e-4c3e-808d-9b7b96d9ee20 div.sk-estimator:hover label.sk-toggleable__label-arrow:before {color: black;}#sk-01aeab15-7a3e-4c3e-808d-9b7b96d9ee20 div.sk-toggleable__content {max-height: 0;max-width: 0;overflow: hidden;text-align: left;background-color: #f0f8ff;}#sk-01aeab15-7a3e-4c3e-808d-9b7b96d9ee20 div.sk-toggleable__content pre {margin: 0.2em;color: black;border-radius: 0.25em;background-color: #f0f8ff;}#sk-01aeab15-7a3e-4c3e-808d-9b7b96d9ee20 input.sk-toggleable__control:checked~div.sk-toggleable__content {max-height: 200px;max-width: 100%;overflow: auto;}#sk-01aeab15-7a3e-4c3e-808d-9b7b96d9ee20 input.sk-toggleable__control:checked~label.sk-toggleable__label-arrow:before {content: \"▾\";}#sk-01aeab15-7a3e-4c3e-808d-9b7b96d9ee20 div.sk-estimator input.sk-toggleable__control:checked~label.sk-toggleable__label {background-color: #d4ebff;}#sk-01aeab15-7a3e-4c3e-808d-9b7b96d9ee20 div.sk-label input.sk-toggleable__control:checked~label.sk-toggleable__label {background-color: #d4ebff;}#sk-01aeab15-7a3e-4c3e-808d-9b7b96d9ee20 input.sk-hidden--visually {border: 0;clip: rect(1px 1px 1px 1px);clip: rect(1px, 1px, 1px, 1px);height: 1px;margin: -1px;overflow: hidden;padding: 0;position: absolute;width: 1px;}#sk-01aeab15-7a3e-4c3e-808d-9b7b96d9ee20 div.sk-estimator {font-family: monospace;background-color: #f0f8ff;border: 1px dotted black;border-radius: 0.25em;box-sizing: border-box;margin-bottom: 0.5em;}#sk-01aeab15-7a3e-4c3e-808d-9b7b96d9ee20 div.sk-estimator:hover {background-color: #d4ebff;}#sk-01aeab15-7a3e-4c3e-808d-9b7b96d9ee20 div.sk-parallel-item::after {content: \"\";width: 100%;border-bottom: 1px solid gray;flex-grow: 1;}#sk-01aeab15-7a3e-4c3e-808d-9b7b96d9ee20 div.sk-label:hover label.sk-toggleable__label {background-color: #d4ebff;}#sk-01aeab15-7a3e-4c3e-808d-9b7b96d9ee20 div.sk-serial::before {content: \"\";position: absolute;border-left: 1px solid gray;box-sizing: border-box;top: 2em;bottom: 0;left: 50%;}#sk-01aeab15-7a3e-4c3e-808d-9b7b96d9ee20 div.sk-serial {display: flex;flex-direction: column;align-items: center;background-color: white;padding-right: 0.2em;padding-left: 0.2em;}#sk-01aeab15-7a3e-4c3e-808d-9b7b96d9ee20 div.sk-item {z-index: 1;}#sk-01aeab15-7a3e-4c3e-808d-9b7b96d9ee20 div.sk-parallel {display: flex;align-items: stretch;justify-content: center;background-color: white;}#sk-01aeab15-7a3e-4c3e-808d-9b7b96d9ee20 div.sk-parallel::before {content: \"\";position: absolute;border-left: 1px solid gray;box-sizing: border-box;top: 2em;bottom: 0;left: 50%;}#sk-01aeab15-7a3e-4c3e-808d-9b7b96d9ee20 div.sk-parallel-item {display: flex;flex-direction: column;position: relative;background-color: white;}#sk-01aeab15-7a3e-4c3e-808d-9b7b96d9ee20 div.sk-parallel-item:first-child::after {align-self: flex-end;width: 50%;}#sk-01aeab15-7a3e-4c3e-808d-9b7b96d9ee20 div.sk-parallel-item:last-child::after {align-self: flex-start;width: 50%;}#sk-01aeab15-7a3e-4c3e-808d-9b7b96d9ee20 div.sk-parallel-item:only-child::after {width: 0;}#sk-01aeab15-7a3e-4c3e-808d-9b7b96d9ee20 div.sk-dashed-wrapped {border: 1px dashed gray;margin: 0 0.4em 0.5em 0.4em;box-sizing: border-box;padding-bottom: 0.4em;background-color: white;position: relative;}#sk-01aeab15-7a3e-4c3e-808d-9b7b96d9ee20 div.sk-label label {font-family: monospace;font-weight: bold;background-color: white;display: inline-block;line-height: 1.2em;}#sk-01aeab15-7a3e-4c3e-808d-9b7b96d9ee20 div.sk-label-container {position: relative;z-index: 2;text-align: center;}#sk-01aeab15-7a3e-4c3e-808d-9b7b96d9ee20 div.sk-container {/* jupyter's `normalize.less` sets `[hidden] { display: none; }` but bootstrap.min.css set `[hidden] { display: none !important; }` so we also need the `!important` here to be able to override the default hidden behavior on the sphinx rendered scikit-learn.org. See: https://github.com/scikit-learn/scikit-learn/issues/21755 */display: inline-block !important;position: relative;}#sk-01aeab15-7a3e-4c3e-808d-9b7b96d9ee20 div.sk-text-repr-fallback {display: none;}</style><div id=\"sk-01aeab15-7a3e-4c3e-808d-9b7b96d9ee20\" class=\"sk-top-container\"><div class=\"sk-text-repr-fallback\"><pre>OptunaSearchCV(estimator=Pipeline(steps=[(&#x27;preprocessor&#x27;,\n",
       "                                          Pipeline(steps=[(&#x27;column&#x27;,\n",
       "                                                           ColumnTransformer(transformers=[(&#x27;num&#x27;,\n",
       "                                                                                            Pipeline(steps=[(&#x27;imputer&#x27;,\n",
       "                                                                                                             SimpleImputer(strategy=&#x27;median&#x27;)),\n",
       "                                                                                                            (&#x27;scaler&#x27;,\n",
       "                                                                                                             PowerTransformer())]),\n",
       "                                                                                            Int64Index([  9,  10,  11,  12,  13,  14,  15,  16,  17,  18,\n",
       "            ...\n",
       "            180, 181, 182, 183, 184, 185, 186, 187, 188, 189],\n",
       "           dtype=&#x27;int64&#x27;, length=181)),\n",
       "                                                                                           (&#x27;cat&#x27;,\n",
       "                                                                                            Pipeline(steps=[...\n",
       "                                                          (&#x27;selector&#x27;,\n",
       "                                                           SelectPercentile(percentile=100))])),\n",
       "                                         (&#x27;classifier&#x27;, Ridge())]),\n",
       "               n_trials=20,\n",
       "               param_distributions={&#x27;classifier__alpha&#x27;: IntDistribution(high=10, log=False, low=1, step=1),\n",
       "                                    &#x27;preprocessor__selector__percentile&#x27;: IntDistribution(high=100, log=False, low=70, step=5)},\n",
       "               scoring=&#x27;neg_mean_squared_error&#x27;,\n",
       "               study=&lt;optuna.study.study.Study object at 0x000002AE84D32160&gt;)</pre><b>Please rerun this cell to show the HTML repr or trust the notebook.</b></div><div class=\"sk-container\" hidden><div class=\"sk-item sk-dashed-wrapped\"><div class=\"sk-label-container\"><div class=\"sk-label sk-toggleable\"><input class=\"sk-toggleable__control sk-hidden--visually\" id=\"ef3f60f1-d12d-4d48-a53f-af5240e7c270\" type=\"checkbox\" ><label for=\"ef3f60f1-d12d-4d48-a53f-af5240e7c270\" class=\"sk-toggleable__label sk-toggleable__label-arrow\">OptunaSearchCV</label><div class=\"sk-toggleable__content\"><pre>OptunaSearchCV(estimator=Pipeline(steps=[(&#x27;preprocessor&#x27;,\n",
       "                                          Pipeline(steps=[(&#x27;column&#x27;,\n",
       "                                                           ColumnTransformer(transformers=[(&#x27;num&#x27;,\n",
       "                                                                                            Pipeline(steps=[(&#x27;imputer&#x27;,\n",
       "                                                                                                             SimpleImputer(strategy=&#x27;median&#x27;)),\n",
       "                                                                                                            (&#x27;scaler&#x27;,\n",
       "                                                                                                             PowerTransformer())]),\n",
       "                                                                                            Int64Index([  9,  10,  11,  12,  13,  14,  15,  16,  17,  18,\n",
       "            ...\n",
       "            180, 181, 182, 183, 184, 185, 186, 187, 188, 189],\n",
       "           dtype=&#x27;int64&#x27;, length=181)),\n",
       "                                                                                           (&#x27;cat&#x27;,\n",
       "                                                                                            Pipeline(steps=[...\n",
       "                                                          (&#x27;selector&#x27;,\n",
       "                                                           SelectPercentile(percentile=100))])),\n",
       "                                         (&#x27;classifier&#x27;, Ridge())]),\n",
       "               n_trials=20,\n",
       "               param_distributions={&#x27;classifier__alpha&#x27;: IntDistribution(high=10, log=False, low=1, step=1),\n",
       "                                    &#x27;preprocessor__selector__percentile&#x27;: IntDistribution(high=100, log=False, low=70, step=5)},\n",
       "               scoring=&#x27;neg_mean_squared_error&#x27;,\n",
       "               study=&lt;optuna.study.study.Study object at 0x000002AE84D32160&gt;)</pre></div></div></div><div class=\"sk-parallel\"><div class=\"sk-parallel-item\"><div class=\"sk-item\"><div class=\"sk-serial\"><div class=\"sk-item\"><div class=\"sk-serial\"><div class=\"sk-item\"><div class=\"sk-label-container\"><div class=\"sk-label sk-toggleable\"><input class=\"sk-toggleable__control sk-hidden--visually\" id=\"7b2eaf22-3a3b-4865-b23c-15939c616309\" type=\"checkbox\" ><label for=\"7b2eaf22-3a3b-4865-b23c-15939c616309\" class=\"sk-toggleable__label sk-toggleable__label-arrow\">preprocessor: Pipeline</label><div class=\"sk-toggleable__content\"><pre>Pipeline(steps=[(&#x27;column&#x27;,\n",
       "                 ColumnTransformer(transformers=[(&#x27;num&#x27;,\n",
       "                                                  Pipeline(steps=[(&#x27;imputer&#x27;,\n",
       "                                                                   SimpleImputer(strategy=&#x27;median&#x27;)),\n",
       "                                                                  (&#x27;scaler&#x27;,\n",
       "                                                                   PowerTransformer())]),\n",
       "                                                  Int64Index([  9,  10,  11,  12,  13,  14,  15,  16,  17,  18,\n",
       "            ...\n",
       "            180, 181, 182, 183, 184, 185, 186, 187, 188, 189],\n",
       "           dtype=&#x27;int64&#x27;, length=181)),\n",
       "                                                 (&#x27;cat&#x27;,\n",
       "                                                  Pipeline(steps=[(&#x27;imputer&#x27;,\n",
       "                                                                   SimpleImputer(strategy=&#x27;most_frequent&#x27;)),\n",
       "                                                                  (&#x27;encoder&#x27;,\n",
       "                                                                   OneHotEncoder(handle_unknown=&#x27;ignore&#x27;))]),\n",
       "                                                  Int64Index([0, 1, 2, 3, 4, 5, 6, 7, 8], dtype=&#x27;int64&#x27;))])),\n",
       "                (&#x27;selector&#x27;, SelectPercentile(percentile=100))])</pre></div></div></div><div class=\"sk-serial\"><div class=\"sk-item sk-dashed-wrapped\"><div class=\"sk-label-container\"><div class=\"sk-label sk-toggleable\"><input class=\"sk-toggleable__control sk-hidden--visually\" id=\"4a4a1ceb-4e24-4eeb-b551-493feb9db951\" type=\"checkbox\" ><label for=\"4a4a1ceb-4e24-4eeb-b551-493feb9db951\" class=\"sk-toggleable__label sk-toggleable__label-arrow\">column: ColumnTransformer</label><div class=\"sk-toggleable__content\"><pre>ColumnTransformer(transformers=[(&#x27;num&#x27;,\n",
       "                                 Pipeline(steps=[(&#x27;imputer&#x27;,\n",
       "                                                  SimpleImputer(strategy=&#x27;median&#x27;)),\n",
       "                                                 (&#x27;scaler&#x27;,\n",
       "                                                  PowerTransformer())]),\n",
       "                                 Int64Index([  9,  10,  11,  12,  13,  14,  15,  16,  17,  18,\n",
       "            ...\n",
       "            180, 181, 182, 183, 184, 185, 186, 187, 188, 189],\n",
       "           dtype=&#x27;int64&#x27;, length=181)),\n",
       "                                (&#x27;cat&#x27;,\n",
       "                                 Pipeline(steps=[(&#x27;imputer&#x27;,\n",
       "                                                  SimpleImputer(strategy=&#x27;most_frequent&#x27;)),\n",
       "                                                 (&#x27;encoder&#x27;,\n",
       "                                                  OneHotEncoder(handle_unknown=&#x27;ignore&#x27;))]),\n",
       "                                 Int64Index([0, 1, 2, 3, 4, 5, 6, 7, 8], dtype=&#x27;int64&#x27;))])</pre></div></div></div><div class=\"sk-parallel\"><div class=\"sk-parallel-item\"><div class=\"sk-item\"><div class=\"sk-label-container\"><div class=\"sk-label sk-toggleable\"><input class=\"sk-toggleable__control sk-hidden--visually\" id=\"fbf2a1e5-73d8-4581-bd10-a1d6ce372591\" type=\"checkbox\" ><label for=\"fbf2a1e5-73d8-4581-bd10-a1d6ce372591\" class=\"sk-toggleable__label sk-toggleable__label-arrow\">num</label><div class=\"sk-toggleable__content\"><pre>Int64Index([  9,  10,  11,  12,  13,  14,  15,  16,  17,  18,\n",
       "            ...\n",
       "            180, 181, 182, 183, 184, 185, 186, 187, 188, 189],\n",
       "           dtype=&#x27;int64&#x27;, length=181)</pre></div></div></div><div class=\"sk-serial\"><div class=\"sk-item\"><div class=\"sk-serial\"><div class=\"sk-item\"><div class=\"sk-estimator sk-toggleable\"><input class=\"sk-toggleable__control sk-hidden--visually\" id=\"85454404-068e-4222-8322-4a62b8d8e319\" type=\"checkbox\" ><label for=\"85454404-068e-4222-8322-4a62b8d8e319\" class=\"sk-toggleable__label sk-toggleable__label-arrow\">SimpleImputer</label><div class=\"sk-toggleable__content\"><pre>SimpleImputer(strategy=&#x27;median&#x27;)</pre></div></div></div><div class=\"sk-item\"><div class=\"sk-estimator sk-toggleable\"><input class=\"sk-toggleable__control sk-hidden--visually\" id=\"2f68a69a-723d-46eb-a00a-a51cea97a499\" type=\"checkbox\" ><label for=\"2f68a69a-723d-46eb-a00a-a51cea97a499\" class=\"sk-toggleable__label sk-toggleable__label-arrow\">PowerTransformer</label><div class=\"sk-toggleable__content\"><pre>PowerTransformer()</pre></div></div></div></div></div></div></div></div><div class=\"sk-parallel-item\"><div class=\"sk-item\"><div class=\"sk-label-container\"><div class=\"sk-label sk-toggleable\"><input class=\"sk-toggleable__control sk-hidden--visually\" id=\"bf54d2db-ce00-43a5-be92-9862c0287497\" type=\"checkbox\" ><label for=\"bf54d2db-ce00-43a5-be92-9862c0287497\" class=\"sk-toggleable__label sk-toggleable__label-arrow\">cat</label><div class=\"sk-toggleable__content\"><pre>Int64Index([0, 1, 2, 3, 4, 5, 6, 7, 8], dtype=&#x27;int64&#x27;)</pre></div></div></div><div class=\"sk-serial\"><div class=\"sk-item\"><div class=\"sk-serial\"><div class=\"sk-item\"><div class=\"sk-estimator sk-toggleable\"><input class=\"sk-toggleable__control sk-hidden--visually\" id=\"d2e66c23-cdef-442d-8b2c-44f42ec35b83\" type=\"checkbox\" ><label for=\"d2e66c23-cdef-442d-8b2c-44f42ec35b83\" class=\"sk-toggleable__label sk-toggleable__label-arrow\">SimpleImputer</label><div class=\"sk-toggleable__content\"><pre>SimpleImputer(strategy=&#x27;most_frequent&#x27;)</pre></div></div></div><div class=\"sk-item\"><div class=\"sk-estimator sk-toggleable\"><input class=\"sk-toggleable__control sk-hidden--visually\" id=\"d92850c6-23c4-4b99-8006-615267aafe84\" type=\"checkbox\" ><label for=\"d92850c6-23c4-4b99-8006-615267aafe84\" class=\"sk-toggleable__label sk-toggleable__label-arrow\">OneHotEncoder</label><div class=\"sk-toggleable__content\"><pre>OneHotEncoder(handle_unknown=&#x27;ignore&#x27;)</pre></div></div></div></div></div></div></div></div></div></div><div class=\"sk-item\"><div class=\"sk-estimator sk-toggleable\"><input class=\"sk-toggleable__control sk-hidden--visually\" id=\"81cdc4f0-9614-4e9f-a7e9-a583f25baffa\" type=\"checkbox\" ><label for=\"81cdc4f0-9614-4e9f-a7e9-a583f25baffa\" class=\"sk-toggleable__label sk-toggleable__label-arrow\">SelectPercentile</label><div class=\"sk-toggleable__content\"><pre>SelectPercentile(percentile=100)</pre></div></div></div></div></div><div class=\"sk-item\"><div class=\"sk-estimator sk-toggleable\"><input class=\"sk-toggleable__control sk-hidden--visually\" id=\"9dfa3525-369c-43e5-b456-ac767d737263\" type=\"checkbox\" ><label for=\"9dfa3525-369c-43e5-b456-ac767d737263\" class=\"sk-toggleable__label sk-toggleable__label-arrow\">Ridge</label><div class=\"sk-toggleable__content\"><pre>Ridge()</pre></div></div></div></div></div></div></div></div></div></div></div></div>"
      ],
      "text/plain": [
       "OptunaSearchCV(estimator=Pipeline(steps=[('preprocessor',\n",
       "                                          Pipeline(steps=[('column',\n",
       "                                                           ColumnTransformer(transformers=[('num',\n",
       "                                                                                            Pipeline(steps=[('imputer',\n",
       "                                                                                                             SimpleImputer(strategy='median')),\n",
       "                                                                                                            ('scaler',\n",
       "                                                                                                             PowerTransformer())]),\n",
       "                                                                                            Int64Index([  9,  10,  11,  12,  13,  14,  15,  16,  17,  18,\n",
       "            ...\n",
       "            180, 181, 182, 183, 184, 185, 186, 187, 188, 189],\n",
       "           dtype='int64', length=181)),\n",
       "                                                                                           ('cat',\n",
       "                                                                                            Pipeline(steps=[...\n",
       "                                                          ('selector',\n",
       "                                                           SelectPercentile(percentile=100))])),\n",
       "                                         ('classifier', Ridge())]),\n",
       "               n_trials=20,\n",
       "               param_distributions={'classifier__alpha': IntDistribution(high=10, log=False, low=1, step=1),\n",
       "                                    'preprocessor__selector__percentile': IntDistribution(high=100, log=False, low=70, step=5)},\n",
       "               scoring='neg_mean_squared_error',\n",
       "               study=<optuna.study.study.Study object at 0x000002AE84D32160>)"
      ]
     },
     "execution_count": 12,
     "metadata": {},
     "output_type": "execute_result"
    }
   ],
   "source": [
    "%%time\n",
    "\n",
    "param_distributions = { \n",
    "    \"preprocessor__selector__percentile\": IntDistribution(70,100,step=5), \n",
    "    \"classifier__alpha\": IntDistribution(1,10),\n",
    "}\n",
    "\n",
    "optuna.logging.set_verbosity(optuna.logging.WARNING)\n",
    "optuna_search = OptunaSearchCV(model, param_distributions, cv=5, \n",
    "                               scoring='neg_mean_squared_error', n_trials=20,\n",
    "                               study=optuna.create_study(sampler=optuna.samplers.TPESampler(seed=100), direction='maximize'))\n",
    "optuna_search.fit(X_train, y_train)"
   ]
  },
  {
   "cell_type": "code",
   "execution_count": 13,
   "id": "32511c90",
   "metadata": {},
   "outputs": [
    {
     "name": "stdout",
     "output_type": "stream",
     "text": [
      "\n",
      "Best params: {'preprocessor__selector__percentile': 95, 'classifier__alpha': 3}\n",
      "\n",
      "Best score: 878.77\n"
     ]
    }
   ],
   "source": [
    "print(f\"\\nBest params: {optuna_search.best_params_}\")\n",
    "print(f\"\\nBest score: {np.sqrt(-1*optuna_search.best_score_):.2f}\")"
   ]
  },
  {
   "cell_type": "code",
   "execution_count": 14,
   "id": "b6ba665c",
   "metadata": {},
   "outputs": [
    {
     "name": "stdout",
     "output_type": "stream",
     "text": [
      "\n",
      "Tuned LM CV scores:  [ 773.5268048   789.88658801  764.56722025  772.34341998  839.95981083\n",
      "  854.83306237  864.60109749  948.67279865  949.87462406 1065.49680222]\n",
      "Tuned LM CV mean = 867.45 with std = 411.32\n"
     ]
    }
   ],
   "source": [
    "model.set_params(**optuna_search.best_params_)\n",
    "\n",
    "# OOF Prediction\n",
    "models = cross_validate(model, \n",
    "                        X_train, y_train, \n",
    "                        cv=10, \n",
    "                        scoring='neg_mean_squared_error', \n",
    "                        return_estimator=True)\n",
    "oof_pred = np.array([m.predict(X_test) for m in models['estimator']]).mean(axis=0)\n",
    "\n",
    "scores = models['test_score']\n",
    "print(\"\\nTuned LM CV scores: \", np.sqrt(-1*scores))\n",
    "print(\"Tuned LM CV mean = %.2f\" % np.sqrt(-1*scores.mean()), \"with std = %.2f\" % np.sqrt(scores.std()))"
   ]
  },
  {
   "cell_type": "code",
   "execution_count": 15,
   "id": "99c13dec",
   "metadata": {},
   "outputs": [],
   "source": [
    "# # submission 화일 생성\n",
    "\n",
    "# LM_VERSION = 7.0\n",
    "\n",
    "# filename = f'LM_{LM_VERSION}_{np.sqrt(-1*scores.mean()):.2f}_{np.sqrt(scores.std()):.2f}.csv'\n",
    "# pd.DataFrame({'ID':test_id, 'Salary':oof_pred}).to_csv(filename, index=False)"
   ]
  },
  {
   "cell_type": "code",
   "execution_count": null,
   "id": "b8ecfcd7",
   "metadata": {},
   "outputs": [],
   "source": []
  }
 ],
 "metadata": {
  "kernelspec": {
   "display_name": "Python 3 (ipykernel)",
   "language": "python",
   "name": "python3"
  },
  "language_info": {
   "codemirror_mode": {
    "name": "ipython",
    "version": 3
   },
   "file_extension": ".py",
   "mimetype": "text/x-python",
   "name": "python",
   "nbconvert_exporter": "python",
   "pygments_lexer": "ipython3",
   "version": "3.8.12"
  }
 },
 "nbformat": 4,
 "nbformat_minor": 5
}
